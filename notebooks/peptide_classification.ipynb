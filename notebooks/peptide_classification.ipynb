{
 "cells": [
  {
   "cell_type": "code",
   "execution_count": 1,
   "id": "c20ee12a",
   "metadata": {},
   "outputs": [],
   "source": [
    "import pandas as pd"
   ]
  },
  {
   "cell_type": "code",
   "execution_count": 2,
   "id": "a8beef5a",
   "metadata": {},
   "outputs": [
    {
     "name": "stdout",
     "output_type": "stream",
     "text": [
      "Requirement already satisfied: propy3 in /home/fredericokremer/miniconda3/envs/anticancer-peptide/lib/python3.8/site-packages (1.1.1)\r\n"
     ]
    }
   ],
   "source": [
    "!pip install propy3"
   ]
  },
  {
   "cell_type": "code",
   "execution_count": 3,
   "id": "a89c3899",
   "metadata": {},
   "outputs": [],
   "source": [
    "df_raw = pd.DataFrame(columns=[\"sequence\", \"class\"])      \n",
    "\n",
    "rows = []\n",
    "\n",
    "with open(\"../data/raw/anti_cp/anticp2_alternate_internal_negative.txt\") as reader:\n",
    "    for line in reader:\n",
    "        rows.append({\"sequence\": line.strip(\"\\n\"), \"class\": 0, \"subset\": \"train\"})\n",
    "\n",
    "with open(\"../data/raw/anti_cp/anticp2_alternate_internal_positive.txt\") as reader:\n",
    "    for line in reader:\n",
    "        rows.append({\"sequence\": line.strip(\"\\n\"), \"class\": 1, \"subset\": \"train\"})\n",
    "\n",
    "with open(\"../data/raw/anti_cp/anticp2_alternate_validation_negative.txt\") as reader:\n",
    "    for line in reader:\n",
    "        rows.append({\"sequence\": line.strip(\"\\n\"), \"class\": 0, \"subset\": \"test\"})\n",
    "\n",
    "with open(\"../data/raw/anti_cp/anticp2_alternate_validation_positive.txt\") as reader:\n",
    "    for line in reader:\n",
    "        rows.append({\"sequence\": line.strip(\"\\n\"), \"class\": 1, \"subset\": \"test\"})\n",
    "\n",
    "df = pd.DataFrame(rows)\n",
    "\n",
    "base_X_train = df.query('subset == \"train\"').drop(['class', 'subset'], axis=1)\n",
    "base_y_train = df.query('subset == \"train\"')['class']\n",
    "\n",
    "base_X_test = df.query('subset == \"test\"').drop(['class', 'subset'], axis=1)\n",
    "base_y_test = df.query('subset == \"test\"')['class']"
   ]
  },
  {
   "cell_type": "code",
   "execution_count": 4,
   "id": "b201a81d",
   "metadata": {},
   "outputs": [],
   "source": [
    "import itertools\n",
    "\n",
    "aas = 'ACDEFGHIKLMNPQRSTVWY'\n",
    "\n",
    "def compute_di_aa_composition(sequence):\n",
    "    \n",
    "    di_aas = sorted([''.join(di_aa) for di_aa in set(itertools.product(aas, aas))])\n",
    "    di_aas_count = {di_aa:sequence.count(di_aa) for di_aa in di_aas}\n",
    "    di_aas_count = {di_aa:di_aas_count[di_aa] / sum(di_aas_count.values()) for di_aa in di_aas}\n",
    "    return di_aas_count"
   ]
  },
  {
   "cell_type": "code",
   "execution_count": 5,
   "id": "e398bf54",
   "metadata": {},
   "outputs": [
    {
     "data": {
      "text/plain": [
       "4.321928094887362"
      ]
     },
     "execution_count": 5,
     "metadata": {},
     "output_type": "execute_result"
    }
   ],
   "source": [
    "import collections\n",
    " \n",
    "from scipy.stats import entropy\n",
    "  \n",
    "def estimate_shannon_entropy(protein_sequence):\n",
    "    aas = collections.Counter([tmp_base for tmp_base in protein_sequence])\n",
    "    # define distribution\n",
    "    dist = [x/sum(aas.values()) for x in aas.values()]\n",
    " \n",
    "    # use scipy to calculate entropy\n",
    "    entropy_value = entropy(dist, base=2)\n",
    " \n",
    "    return entropy_value\n",
    "\n",
    "estimate_shannon_entropy(aas)"
   ]
  },
  {
   "cell_type": "code",
   "execution_count": 6,
   "id": "60f6b998",
   "metadata": {},
   "outputs": [],
   "source": [
    "df_raw['shannon'] = df_raw['sequence'].map(estimate_shannon_entropy)"
   ]
  },
  {
   "cell_type": "code",
   "execution_count": 7,
   "id": "570539c1",
   "metadata": {},
   "outputs": [
    {
     "name": "stdout",
     "output_type": "stream",
     "text": [
      "Requirement already satisfied: plotly in /home/fredericokremer/miniconda3/envs/anticancer-peptide/lib/python3.8/site-packages (5.13.1)\r\n",
      "Requirement already satisfied: tenacity>=6.2.0 in /home/fredericokremer/miniconda3/envs/anticancer-peptide/lib/python3.8/site-packages (from plotly) (8.2.2)\r\n"
     ]
    }
   ],
   "source": [
    "!pip install plotly"
   ]
  },
  {
   "cell_type": "code",
   "execution_count": 9,
   "id": "de7bddfa",
   "metadata": {},
   "outputs": [
    {
     "data": {
      "text/plain": [
       "{'PAAC1': 2.469,\n",
       " 'PAAC2': 2.469,\n",
       " 'PAAC3': 2.469,\n",
       " 'PAAC4': 2.469,\n",
       " 'PAAC5': 2.469,\n",
       " 'PAAC6': 2.469,\n",
       " 'PAAC7': 2.469,\n",
       " 'PAAC8': 2.469,\n",
       " 'PAAC9': 2.469,\n",
       " 'PAAC10': 2.469,\n",
       " 'PAAC11': 2.469,\n",
       " 'PAAC12': 2.469,\n",
       " 'PAAC13': 2.469,\n",
       " 'PAAC14': 2.469,\n",
       " 'PAAC15': 2.469,\n",
       " 'PAAC16': 2.469,\n",
       " 'PAAC17': 2.469,\n",
       " 'PAAC18': 2.469,\n",
       " 'PAAC19': 2.469,\n",
       " 'PAAC20': 2.469,\n",
       " 'PAAC21': 4.884,\n",
       " 'PAAC22': 5.415,\n",
       " 'PAAC23': 5.069,\n",
       " 'PAAC24': 6.328,\n",
       " 'PAAC25': 4.612,\n",
       " 'PAAC26': 3.657,\n",
       " 'PAAC27': 5.797,\n",
       " 'PAAC28': 4.553,\n",
       " 'PAAC29': 5.104,\n",
       " 'PAAC30': 5.2}"
      ]
     },
     "execution_count": 9,
     "metadata": {},
     "output_type": "execute_result"
    }
   ],
   "source": [
    "from propy import PyPro\n",
    "from propy.GetProteinFromUniprot import GetProteinSequence\n",
    "\n",
    "DesObject = PyPro.GetProDes(aas)  # construct a GetProDes object\n",
    "paac = DesObject.GetPAAC(lamda=10, weight=0.05)\n",
    "paac"
   ]
  },
  {
   "cell_type": "code",
   "execution_count": 10,
   "id": "7428c963",
   "metadata": {},
   "outputs": [],
   "source": [
    "from Bio.SeqUtils.ProtParam import ProteinAnalysis\n",
    "import numpy as np\n",
    "\n",
    "def compute_sequence_data(sequence):\n",
    "    sequence = sequence.upper()\n",
    "    protein_analysis = ProteinAnalysis(sequence)\n",
    "    data = compute_di_aa_composition(sequence)    \n",
    "    data['shannon_entropy'] = estimate_shannon_entropy(sequence)\n",
    "    data['molecular_weight'] = protein_analysis.molecular_weight()\n",
    "    data['aromaticity'] = protein_analysis.aromaticity()\n",
    "    data['instability_index'] = protein_analysis.instability_index()\n",
    "    data['gravy'] = protein_analysis.gravy()\n",
    "    data['isoelectric_point'] = protein_analysis.isoelectric_point()\n",
    "    data['length'] = len(sequence)\n",
    "    for i in range(100):\n",
    "        data['charge_at_pH_%.2f'] = protein_analysis.charge_at_pH(i/10)\n",
    "    \n",
    "    try:\n",
    "        paac = PyPro.GetProDes(sequence.upper()).GetPAAC(lamda=5, weight=0.05)\n",
    "        ctd  = PyPro.GetProDes(sequence.upper()).GetCTD()\n",
    "    except:\n",
    "        paac = {}\n",
    "        ctd  = {}\n",
    "    \n",
    "    data = {**data, **paac}\n",
    "    data = {**data, **ctd}\n",
    "    return data"
   ]
  },
  {
   "cell_type": "code",
   "execution_count": 11,
   "id": "86ada9d7",
   "metadata": {},
   "outputs": [],
   "source": [
    "X_train = pd.DataFrame([compute_sequence_data(sequence) for sequence in base_X_train['sequence']]).fillna(0)\n",
    "X_test  = pd.DataFrame([compute_sequence_data(sequence) for sequence in base_X_test['sequence']]).fillna(0)"
   ]
  },
  {
   "cell_type": "code",
   "execution_count": 12,
   "id": "66d03bc2",
   "metadata": {},
   "outputs": [],
   "source": [
    "y_train = base_y_train\n",
    "y_test  = base_y_test"
   ]
  },
  {
   "cell_type": "code",
   "execution_count": 13,
   "id": "7938efdf",
   "metadata": {},
   "outputs": [
    {
     "data": {
      "text/html": [
       "<div>\n",
       "<style scoped>\n",
       "    .dataframe tbody tr th:only-of-type {\n",
       "        vertical-align: middle;\n",
       "    }\n",
       "\n",
       "    .dataframe tbody tr th {\n",
       "        vertical-align: top;\n",
       "    }\n",
       "\n",
       "    .dataframe thead th {\n",
       "        text-align: right;\n",
       "    }\n",
       "</style>\n",
       "<table border=\"1\" class=\"dataframe\">\n",
       "  <thead>\n",
       "    <tr style=\"text-align: right;\">\n",
       "      <th></th>\n",
       "      <th>AA</th>\n",
       "      <th>AC</th>\n",
       "      <th>AD</th>\n",
       "      <th>AE</th>\n",
       "      <th>AF</th>\n",
       "      <th>AG</th>\n",
       "      <th>AH</th>\n",
       "      <th>AI</th>\n",
       "      <th>AK</th>\n",
       "      <th>AL</th>\n",
       "      <th>...</th>\n",
       "      <th>_HydrophobicityD2001</th>\n",
       "      <th>_HydrophobicityD2025</th>\n",
       "      <th>_HydrophobicityD2050</th>\n",
       "      <th>_HydrophobicityD2075</th>\n",
       "      <th>_HydrophobicityD2100</th>\n",
       "      <th>_HydrophobicityD3001</th>\n",
       "      <th>_HydrophobicityD3025</th>\n",
       "      <th>_HydrophobicityD3050</th>\n",
       "      <th>_HydrophobicityD3075</th>\n",
       "      <th>_HydrophobicityD3100</th>\n",
       "    </tr>\n",
       "  </thead>\n",
       "  <tbody>\n",
       "    <tr>\n",
       "      <th>0</th>\n",
       "      <td>0.000000</td>\n",
       "      <td>0.000000</td>\n",
       "      <td>0.0</td>\n",
       "      <td>0.000000</td>\n",
       "      <td>0.0</td>\n",
       "      <td>0.000000</td>\n",
       "      <td>0.000000</td>\n",
       "      <td>0.000000</td>\n",
       "      <td>0.000000</td>\n",
       "      <td>0.000000</td>\n",
       "      <td>...</td>\n",
       "      <td>18.182</td>\n",
       "      <td>54.545</td>\n",
       "      <td>18.182</td>\n",
       "      <td>27.273</td>\n",
       "      <td>54.545</td>\n",
       "      <td>9.091</td>\n",
       "      <td>9.091</td>\n",
       "      <td>72.727</td>\n",
       "      <td>81.818</td>\n",
       "      <td>100.000</td>\n",
       "    </tr>\n",
       "    <tr>\n",
       "      <th>1</th>\n",
       "      <td>0.000000</td>\n",
       "      <td>0.000000</td>\n",
       "      <td>0.0</td>\n",
       "      <td>0.000000</td>\n",
       "      <td>0.0</td>\n",
       "      <td>0.000000</td>\n",
       "      <td>0.000000</td>\n",
       "      <td>0.000000</td>\n",
       "      <td>0.000000</td>\n",
       "      <td>0.000000</td>\n",
       "      <td>...</td>\n",
       "      <td>8.333</td>\n",
       "      <td>41.667</td>\n",
       "      <td>61.111</td>\n",
       "      <td>75.000</td>\n",
       "      <td>100.000</td>\n",
       "      <td>11.111</td>\n",
       "      <td>11.111</td>\n",
       "      <td>13.889</td>\n",
       "      <td>16.667</td>\n",
       "      <td>36.111</td>\n",
       "    </tr>\n",
       "    <tr>\n",
       "      <th>2</th>\n",
       "      <td>0.043478</td>\n",
       "      <td>0.000000</td>\n",
       "      <td>0.0</td>\n",
       "      <td>0.000000</td>\n",
       "      <td>0.0</td>\n",
       "      <td>0.000000</td>\n",
       "      <td>0.021739</td>\n",
       "      <td>0.065217</td>\n",
       "      <td>0.000000</td>\n",
       "      <td>0.021739</td>\n",
       "      <td>...</td>\n",
       "      <td>2.128</td>\n",
       "      <td>17.021</td>\n",
       "      <td>34.043</td>\n",
       "      <td>65.957</td>\n",
       "      <td>97.872</td>\n",
       "      <td>8.511</td>\n",
       "      <td>38.298</td>\n",
       "      <td>61.702</td>\n",
       "      <td>82.979</td>\n",
       "      <td>100.000</td>\n",
       "    </tr>\n",
       "    <tr>\n",
       "      <th>3</th>\n",
       "      <td>0.038462</td>\n",
       "      <td>0.000000</td>\n",
       "      <td>0.0</td>\n",
       "      <td>0.038462</td>\n",
       "      <td>0.0</td>\n",
       "      <td>0.000000</td>\n",
       "      <td>0.000000</td>\n",
       "      <td>0.000000</td>\n",
       "      <td>0.000000</td>\n",
       "      <td>0.038462</td>\n",
       "      <td>...</td>\n",
       "      <td>22.222</td>\n",
       "      <td>25.926</td>\n",
       "      <td>51.852</td>\n",
       "      <td>77.778</td>\n",
       "      <td>100.000</td>\n",
       "      <td>3.704</td>\n",
       "      <td>3.704</td>\n",
       "      <td>11.111</td>\n",
       "      <td>88.889</td>\n",
       "      <td>96.296</td>\n",
       "    </tr>\n",
       "    <tr>\n",
       "      <th>4</th>\n",
       "      <td>0.085714</td>\n",
       "      <td>0.000000</td>\n",
       "      <td>0.0</td>\n",
       "      <td>0.000000</td>\n",
       "      <td>0.0</td>\n",
       "      <td>0.000000</td>\n",
       "      <td>0.000000</td>\n",
       "      <td>0.000000</td>\n",
       "      <td>0.000000</td>\n",
       "      <td>0.000000</td>\n",
       "      <td>...</td>\n",
       "      <td>2.703</td>\n",
       "      <td>24.324</td>\n",
       "      <td>64.865</td>\n",
       "      <td>81.081</td>\n",
       "      <td>100.000</td>\n",
       "      <td>8.108</td>\n",
       "      <td>13.514</td>\n",
       "      <td>29.730</td>\n",
       "      <td>51.351</td>\n",
       "      <td>89.189</td>\n",
       "    </tr>\n",
       "    <tr>\n",
       "      <th>...</th>\n",
       "      <td>...</td>\n",
       "      <td>...</td>\n",
       "      <td>...</td>\n",
       "      <td>...</td>\n",
       "      <td>...</td>\n",
       "      <td>...</td>\n",
       "      <td>...</td>\n",
       "      <td>...</td>\n",
       "      <td>...</td>\n",
       "      <td>...</td>\n",
       "      <td>...</td>\n",
       "      <td>...</td>\n",
       "      <td>...</td>\n",
       "      <td>...</td>\n",
       "      <td>...</td>\n",
       "      <td>...</td>\n",
       "      <td>...</td>\n",
       "      <td>...</td>\n",
       "      <td>...</td>\n",
       "      <td>...</td>\n",
       "      <td>...</td>\n",
       "    </tr>\n",
       "    <tr>\n",
       "      <th>1547</th>\n",
       "      <td>0.000000</td>\n",
       "      <td>0.000000</td>\n",
       "      <td>0.0</td>\n",
       "      <td>0.000000</td>\n",
       "      <td>0.0</td>\n",
       "      <td>0.000000</td>\n",
       "      <td>0.000000</td>\n",
       "      <td>0.000000</td>\n",
       "      <td>0.250000</td>\n",
       "      <td>0.000000</td>\n",
       "      <td>...</td>\n",
       "      <td>15.385</td>\n",
       "      <td>69.231</td>\n",
       "      <td>15.385</td>\n",
       "      <td>46.154</td>\n",
       "      <td>69.231</td>\n",
       "      <td>7.692</td>\n",
       "      <td>7.692</td>\n",
       "      <td>38.462</td>\n",
       "      <td>61.538</td>\n",
       "      <td>100.000</td>\n",
       "    </tr>\n",
       "    <tr>\n",
       "      <th>1548</th>\n",
       "      <td>0.058824</td>\n",
       "      <td>0.000000</td>\n",
       "      <td>0.0</td>\n",
       "      <td>0.000000</td>\n",
       "      <td>0.0</td>\n",
       "      <td>0.117647</td>\n",
       "      <td>0.000000</td>\n",
       "      <td>0.000000</td>\n",
       "      <td>0.000000</td>\n",
       "      <td>0.000000</td>\n",
       "      <td>...</td>\n",
       "      <td>5.556</td>\n",
       "      <td>16.667</td>\n",
       "      <td>50.000</td>\n",
       "      <td>72.222</td>\n",
       "      <td>100.000</td>\n",
       "      <td>33.333</td>\n",
       "      <td>33.333</td>\n",
       "      <td>38.889</td>\n",
       "      <td>55.556</td>\n",
       "      <td>88.889</td>\n",
       "    </tr>\n",
       "    <tr>\n",
       "      <th>1549</th>\n",
       "      <td>0.000000</td>\n",
       "      <td>0.035714</td>\n",
       "      <td>0.0</td>\n",
       "      <td>0.000000</td>\n",
       "      <td>0.0</td>\n",
       "      <td>0.035714</td>\n",
       "      <td>0.000000</td>\n",
       "      <td>0.000000</td>\n",
       "      <td>0.000000</td>\n",
       "      <td>0.000000</td>\n",
       "      <td>...</td>\n",
       "      <td>3.448</td>\n",
       "      <td>17.241</td>\n",
       "      <td>51.724</td>\n",
       "      <td>65.517</td>\n",
       "      <td>93.103</td>\n",
       "      <td>13.793</td>\n",
       "      <td>27.586</td>\n",
       "      <td>44.828</td>\n",
       "      <td>62.069</td>\n",
       "      <td>89.655</td>\n",
       "    </tr>\n",
       "    <tr>\n",
       "      <th>1550</th>\n",
       "      <td>0.000000</td>\n",
       "      <td>0.000000</td>\n",
       "      <td>0.0</td>\n",
       "      <td>0.000000</td>\n",
       "      <td>0.0</td>\n",
       "      <td>0.022222</td>\n",
       "      <td>0.000000</td>\n",
       "      <td>0.000000</td>\n",
       "      <td>0.022222</td>\n",
       "      <td>0.000000</td>\n",
       "      <td>...</td>\n",
       "      <td>4.348</td>\n",
       "      <td>28.261</td>\n",
       "      <td>47.826</td>\n",
       "      <td>80.435</td>\n",
       "      <td>95.652</td>\n",
       "      <td>6.522</td>\n",
       "      <td>8.696</td>\n",
       "      <td>39.130</td>\n",
       "      <td>69.565</td>\n",
       "      <td>86.957</td>\n",
       "    </tr>\n",
       "    <tr>\n",
       "      <th>1551</th>\n",
       "      <td>0.000000</td>\n",
       "      <td>0.000000</td>\n",
       "      <td>0.0</td>\n",
       "      <td>0.000000</td>\n",
       "      <td>0.0</td>\n",
       "      <td>0.000000</td>\n",
       "      <td>0.000000</td>\n",
       "      <td>0.000000</td>\n",
       "      <td>0.000000</td>\n",
       "      <td>0.000000</td>\n",
       "      <td>...</td>\n",
       "      <td>8.333</td>\n",
       "      <td>75.000</td>\n",
       "      <td>8.333</td>\n",
       "      <td>41.667</td>\n",
       "      <td>75.000</td>\n",
       "      <td>25.000</td>\n",
       "      <td>25.000</td>\n",
       "      <td>50.000</td>\n",
       "      <td>58.333</td>\n",
       "      <td>91.667</td>\n",
       "    </tr>\n",
       "  </tbody>\n",
       "</table>\n",
       "<p>1552 rows × 580 columns</p>\n",
       "</div>"
      ],
      "text/plain": [
       "            AA        AC   AD        AE   AF        AG        AH        AI  \\\n",
       "0     0.000000  0.000000  0.0  0.000000  0.0  0.000000  0.000000  0.000000   \n",
       "1     0.000000  0.000000  0.0  0.000000  0.0  0.000000  0.000000  0.000000   \n",
       "2     0.043478  0.000000  0.0  0.000000  0.0  0.000000  0.021739  0.065217   \n",
       "3     0.038462  0.000000  0.0  0.038462  0.0  0.000000  0.000000  0.000000   \n",
       "4     0.085714  0.000000  0.0  0.000000  0.0  0.000000  0.000000  0.000000   \n",
       "...        ...       ...  ...       ...  ...       ...       ...       ...   \n",
       "1547  0.000000  0.000000  0.0  0.000000  0.0  0.000000  0.000000  0.000000   \n",
       "1548  0.058824  0.000000  0.0  0.000000  0.0  0.117647  0.000000  0.000000   \n",
       "1549  0.000000  0.035714  0.0  0.000000  0.0  0.035714  0.000000  0.000000   \n",
       "1550  0.000000  0.000000  0.0  0.000000  0.0  0.022222  0.000000  0.000000   \n",
       "1551  0.000000  0.000000  0.0  0.000000  0.0  0.000000  0.000000  0.000000   \n",
       "\n",
       "            AK        AL  ...  _HydrophobicityD2001  _HydrophobicityD2025  \\\n",
       "0     0.000000  0.000000  ...                18.182                54.545   \n",
       "1     0.000000  0.000000  ...                 8.333                41.667   \n",
       "2     0.000000  0.021739  ...                 2.128                17.021   \n",
       "3     0.000000  0.038462  ...                22.222                25.926   \n",
       "4     0.000000  0.000000  ...                 2.703                24.324   \n",
       "...        ...       ...  ...                   ...                   ...   \n",
       "1547  0.250000  0.000000  ...                15.385                69.231   \n",
       "1548  0.000000  0.000000  ...                 5.556                16.667   \n",
       "1549  0.000000  0.000000  ...                 3.448                17.241   \n",
       "1550  0.022222  0.000000  ...                 4.348                28.261   \n",
       "1551  0.000000  0.000000  ...                 8.333                75.000   \n",
       "\n",
       "      _HydrophobicityD2050  _HydrophobicityD2075  _HydrophobicityD2100  \\\n",
       "0                   18.182                27.273                54.545   \n",
       "1                   61.111                75.000               100.000   \n",
       "2                   34.043                65.957                97.872   \n",
       "3                   51.852                77.778               100.000   \n",
       "4                   64.865                81.081               100.000   \n",
       "...                    ...                   ...                   ...   \n",
       "1547                15.385                46.154                69.231   \n",
       "1548                50.000                72.222               100.000   \n",
       "1549                51.724                65.517                93.103   \n",
       "1550                47.826                80.435                95.652   \n",
       "1551                 8.333                41.667                75.000   \n",
       "\n",
       "      _HydrophobicityD3001  _HydrophobicityD3025  _HydrophobicityD3050  \\\n",
       "0                    9.091                 9.091                72.727   \n",
       "1                   11.111                11.111                13.889   \n",
       "2                    8.511                38.298                61.702   \n",
       "3                    3.704                 3.704                11.111   \n",
       "4                    8.108                13.514                29.730   \n",
       "...                    ...                   ...                   ...   \n",
       "1547                 7.692                 7.692                38.462   \n",
       "1548                33.333                33.333                38.889   \n",
       "1549                13.793                27.586                44.828   \n",
       "1550                 6.522                 8.696                39.130   \n",
       "1551                25.000                25.000                50.000   \n",
       "\n",
       "      _HydrophobicityD3075  _HydrophobicityD3100  \n",
       "0                   81.818               100.000  \n",
       "1                   16.667                36.111  \n",
       "2                   82.979               100.000  \n",
       "3                   88.889                96.296  \n",
       "4                   51.351                89.189  \n",
       "...                    ...                   ...  \n",
       "1547                61.538               100.000  \n",
       "1548                55.556                88.889  \n",
       "1549                62.069                89.655  \n",
       "1550                69.565                86.957  \n",
       "1551                58.333                91.667  \n",
       "\n",
       "[1552 rows x 580 columns]"
      ]
     },
     "execution_count": 13,
     "metadata": {},
     "output_type": "execute_result"
    }
   ],
   "source": [
    "X_train"
   ]
  },
  {
   "cell_type": "code",
   "execution_count": 14,
   "id": "565e4ee5",
   "metadata": {},
   "outputs": [
    {
     "data": {
      "text/plain": [
       "0.7345360824742269"
      ]
     },
     "execution_count": 14,
     "metadata": {},
     "output_type": "execute_result"
    }
   ],
   "source": [
    "from sklearn.svm import SVC\n",
    "from sklearn.metrics import accuracy_score, recall_score, precision_score, f1_score, roc_auc_score \n",
    "\n",
    "model = SVC()\n",
    "model.fit(X_train, y_train)\n",
    "y_pred = model.predict(X_test)\n",
    "accuracy_score(y_test, y_pred)"
   ]
  },
  {
   "cell_type": "code",
   "execution_count": 15,
   "id": "b702e02c",
   "metadata": {},
   "outputs": [
    {
     "data": {
      "text/plain": [
       "0.7164948453608248"
      ]
     },
     "execution_count": 15,
     "metadata": {},
     "output_type": "execute_result"
    }
   ],
   "source": [
    "recall_score(y_test, y_pred)"
   ]
  },
  {
   "cell_type": "code",
   "execution_count": 16,
   "id": "5e3f7ac5",
   "metadata": {},
   "outputs": [
    {
     "data": {
      "text/plain": [
       "0.7433155080213903"
      ]
     },
     "execution_count": 16,
     "metadata": {},
     "output_type": "execute_result"
    }
   ],
   "source": [
    "precision_score(y_test, y_pred)"
   ]
  },
  {
   "cell_type": "code",
   "execution_count": 17,
   "id": "2919ebd1",
   "metadata": {},
   "outputs": [
    {
     "data": {
      "text/plain": [
       "0.7296587926509186"
      ]
     },
     "execution_count": 17,
     "metadata": {},
     "output_type": "execute_result"
    }
   ],
   "source": [
    "f1_score(y_test, y_pred)"
   ]
  },
  {
   "cell_type": "code",
   "execution_count": 18,
   "id": "d46fe4a8",
   "metadata": {},
   "outputs": [
    {
     "data": {
      "text/plain": [
       "0.7345360824742269"
      ]
     },
     "execution_count": 18,
     "metadata": {},
     "output_type": "execute_result"
    }
   ],
   "source": [
    "roc_auc_score(y_test, y_pred)"
   ]
  },
  {
   "cell_type": "code",
   "execution_count": 19,
   "id": "ee04c02a",
   "metadata": {},
   "outputs": [
    {
     "data": {
      "text/plain": [
       "0.8685567010309279"
      ]
     },
     "execution_count": 19,
     "metadata": {},
     "output_type": "execute_result"
    }
   ],
   "source": [
    "from sklearn.neural_network import MLPClassifier\n",
    "\n",
    "model = MLPClassifier()\n",
    "model.fit(X_train, y_train)\n",
    "y_pred = model.predict(X_test)\n",
    "accuracy_score(y_test, y_pred)"
   ]
  },
  {
   "cell_type": "code",
   "execution_count": 20,
   "id": "63fb1755",
   "metadata": {},
   "outputs": [
    {
     "data": {
      "text/plain": [
       "0.8969072164948454"
      ]
     },
     "execution_count": 20,
     "metadata": {},
     "output_type": "execute_result"
    }
   ],
   "source": [
    "recall_score(y_test, y_pred)"
   ]
  },
  {
   "cell_type": "code",
   "execution_count": 21,
   "id": "06b2d19a",
   "metadata": {},
   "outputs": [
    {
     "data": {
      "text/plain": [
       "0.848780487804878"
      ]
     },
     "execution_count": 21,
     "metadata": {},
     "output_type": "execute_result"
    }
   ],
   "source": [
    "precision_score(y_test, y_pred)"
   ]
  },
  {
   "cell_type": "code",
   "execution_count": 22,
   "id": "03da754f",
   "metadata": {},
   "outputs": [
    {
     "data": {
      "text/plain": [
       "0.8721804511278195"
      ]
     },
     "execution_count": 22,
     "metadata": {},
     "output_type": "execute_result"
    }
   ],
   "source": [
    "f1_score(y_test, y_pred)"
   ]
  },
  {
   "cell_type": "code",
   "execution_count": 23,
   "id": "d053e04d",
   "metadata": {},
   "outputs": [
    {
     "data": {
      "text/plain": [
       "0.8685567010309279"
      ]
     },
     "execution_count": 23,
     "metadata": {},
     "output_type": "execute_result"
    }
   ],
   "source": [
    "roc_auc_score(y_test, y_pred)"
   ]
  },
  {
   "cell_type": "code",
   "execution_count": 24,
   "id": "f6c72b25",
   "metadata": {},
   "outputs": [
    {
     "data": {
      "text/plain": [
       "0.9020618556701031"
      ]
     },
     "execution_count": 24,
     "metadata": {},
     "output_type": "execute_result"
    }
   ],
   "source": [
    "from sklearn.ensemble import GradientBoostingClassifier\n",
    "\n",
    "model = GradientBoostingClassifier()\n",
    "model.fit(X_train, y_train)\n",
    "y_pred = model.predict(X_test)\n",
    "accuracy_score(y_test, y_pred)"
   ]
  },
  {
   "cell_type": "code",
   "execution_count": 25,
   "id": "5b0058ef",
   "metadata": {},
   "outputs": [
    {
     "data": {
      "text/plain": [
       "0.8969072164948454"
      ]
     },
     "execution_count": 25,
     "metadata": {},
     "output_type": "execute_result"
    }
   ],
   "source": [
    "recall_score(y_test, y_pred)"
   ]
  },
  {
   "cell_type": "code",
   "execution_count": 26,
   "id": "145c30ad",
   "metadata": {},
   "outputs": [
    {
     "data": {
      "text/plain": [
       "0.90625"
      ]
     },
     "execution_count": 26,
     "metadata": {},
     "output_type": "execute_result"
    }
   ],
   "source": [
    "precision_score(y_test, y_pred)"
   ]
  },
  {
   "cell_type": "code",
   "execution_count": 27,
   "id": "7c2d2a89",
   "metadata": {},
   "outputs": [
    {
     "data": {
      "text/plain": [
       "0.9015544041450777"
      ]
     },
     "execution_count": 27,
     "metadata": {},
     "output_type": "execute_result"
    }
   ],
   "source": [
    "f1_score(y_test, y_pred)"
   ]
  },
  {
   "cell_type": "code",
   "execution_count": 28,
   "id": "9bb22eda",
   "metadata": {},
   "outputs": [
    {
     "data": {
      "text/plain": [
       "0.902061855670103"
      ]
     },
     "execution_count": 28,
     "metadata": {},
     "output_type": "execute_result"
    }
   ],
   "source": [
    "roc_auc_score(y_test, y_pred)"
   ]
  },
  {
   "cell_type": "code",
   "execution_count": 29,
   "id": "08bb4347",
   "metadata": {},
   "outputs": [
    {
     "data": {
      "text/plain": [
       "0.9020618556701031"
      ]
     },
     "execution_count": 29,
     "metadata": {},
     "output_type": "execute_result"
    }
   ],
   "source": [
    "from sklearn.ensemble import BaggingClassifier\n",
    "\n",
    "model = BaggingClassifier()\n",
    "model.fit(X_train, y_train)\n",
    "y_pred = model.predict(X_test)\n",
    "accuracy_score(y_test, y_pred)"
   ]
  },
  {
   "cell_type": "code",
   "execution_count": 30,
   "id": "7b5f42ef",
   "metadata": {},
   "outputs": [
    {
     "data": {
      "text/plain": [
       "0.8814432989690721"
      ]
     },
     "execution_count": 30,
     "metadata": {},
     "output_type": "execute_result"
    }
   ],
   "source": [
    "recall_score(y_test, y_pred)"
   ]
  },
  {
   "cell_type": "code",
   "execution_count": 31,
   "id": "5add00bd",
   "metadata": {},
   "outputs": [
    {
     "data": {
      "text/plain": [
       "0.9193548387096774"
      ]
     },
     "execution_count": 31,
     "metadata": {},
     "output_type": "execute_result"
    }
   ],
   "source": [
    "precision_score(y_test, y_pred)"
   ]
  },
  {
   "cell_type": "code",
   "execution_count": 32,
   "id": "bd18930f",
   "metadata": {},
   "outputs": [
    {
     "data": {
      "text/plain": [
       "0.8999999999999999"
      ]
     },
     "execution_count": 32,
     "metadata": {},
     "output_type": "execute_result"
    }
   ],
   "source": [
    "f1_score(y_test, y_pred)"
   ]
  },
  {
   "cell_type": "code",
   "execution_count": 33,
   "id": "68fd7257",
   "metadata": {},
   "outputs": [
    {
     "data": {
      "text/plain": [
       "0.9020618556701032"
      ]
     },
     "execution_count": 33,
     "metadata": {},
     "output_type": "execute_result"
    }
   ],
   "source": [
    "roc_auc_score(y_test, y_pred)"
   ]
  },
  {
   "cell_type": "code",
   "execution_count": 34,
   "id": "8f98f0fd",
   "metadata": {},
   "outputs": [
    {
     "data": {
      "text/plain": [
       "0.9201030927835051"
      ]
     },
     "execution_count": 34,
     "metadata": {},
     "output_type": "execute_result"
    }
   ],
   "source": [
    "from xgboost import XGBClassifier\n",
    "\n",
    "model = XGBClassifier()\n",
    "model.fit(X_train, y_train)\n",
    "y_pred = model.predict(X_test)\n",
    "accuracy_score(y_test, y_pred)"
   ]
  },
  {
   "cell_type": "code",
   "execution_count": 35,
   "id": "e63597a5",
   "metadata": {},
   "outputs": [
    {
     "data": {
      "text/plain": [
       "0.9072164948453608"
      ]
     },
     "execution_count": 35,
     "metadata": {},
     "output_type": "execute_result"
    }
   ],
   "source": [
    "recall_score(y_test, y_pred)"
   ]
  },
  {
   "cell_type": "code",
   "execution_count": 36,
   "id": "c69f0108",
   "metadata": {},
   "outputs": [
    {
     "data": {
      "text/plain": [
       "0.9312169312169312"
      ]
     },
     "execution_count": 36,
     "metadata": {},
     "output_type": "execute_result"
    }
   ],
   "source": [
    "precision_score(y_test, y_pred)"
   ]
  },
  {
   "cell_type": "code",
   "execution_count": 37,
   "id": "b0902465",
   "metadata": {},
   "outputs": [
    {
     "data": {
      "text/plain": [
       "0.9190600522193212"
      ]
     },
     "execution_count": 37,
     "metadata": {},
     "output_type": "execute_result"
    }
   ],
   "source": [
    "f1_score(y_test, y_pred)"
   ]
  },
  {
   "cell_type": "code",
   "execution_count": 38,
   "id": "e5ef0f18",
   "metadata": {},
   "outputs": [
    {
     "data": {
      "text/plain": [
       "0.9201030927835051"
      ]
     },
     "execution_count": 38,
     "metadata": {},
     "output_type": "execute_result"
    }
   ],
   "source": [
    "roc_auc_score(y_test, y_pred)"
   ]
  },
  {
   "cell_type": "code",
   "execution_count": 39,
   "id": "7c0fa629",
   "metadata": {},
   "outputs": [
    {
     "data": {
      "text/plain": [
       "0.8582474226804123"
      ]
     },
     "execution_count": 39,
     "metadata": {},
     "output_type": "execute_result"
    }
   ],
   "source": [
    "from sklearn.tree import DecisionTreeClassifier\n",
    "\n",
    "model = DecisionTreeClassifier()\n",
    "model.fit(X_train, y_train)\n",
    "y_pred = model.predict(X_test)\n",
    "accuracy_score(y_test, y_pred)"
   ]
  },
  {
   "cell_type": "code",
   "execution_count": 40,
   "id": "27ca5f4b",
   "metadata": {},
   "outputs": [
    {
     "data": {
      "text/plain": [
       "0.865979381443299"
      ]
     },
     "execution_count": 40,
     "metadata": {},
     "output_type": "execute_result"
    }
   ],
   "source": [
    "recall_score(y_test, y_pred)"
   ]
  },
  {
   "cell_type": "code",
   "execution_count": 41,
   "id": "275c8fcf",
   "metadata": {},
   "outputs": [
    {
     "data": {
      "text/plain": [
       "0.8527918781725888"
      ]
     },
     "execution_count": 41,
     "metadata": {},
     "output_type": "execute_result"
    }
   ],
   "source": [
    "precision_score(y_test, y_pred)"
   ]
  },
  {
   "cell_type": "code",
   "execution_count": 42,
   "id": "18768168",
   "metadata": {},
   "outputs": [
    {
     "data": {
      "text/plain": [
       "0.8593350383631715"
      ]
     },
     "execution_count": 42,
     "metadata": {},
     "output_type": "execute_result"
    }
   ],
   "source": [
    "f1_score(y_test, y_pred)"
   ]
  },
  {
   "cell_type": "code",
   "execution_count": 43,
   "id": "d8d05a69",
   "metadata": {},
   "outputs": [
    {
     "data": {
      "text/plain": [
       "0.8582474226804123"
      ]
     },
     "execution_count": 43,
     "metadata": {},
     "output_type": "execute_result"
    }
   ],
   "source": [
    "roc_auc_score(y_test, y_pred)"
   ]
  },
  {
   "cell_type": "code",
   "execution_count": 44,
   "id": "196e1b88",
   "metadata": {},
   "outputs": [
    {
     "data": {
      "text/plain": [
       "0.75"
      ]
     },
     "execution_count": 44,
     "metadata": {},
     "output_type": "execute_result"
    }
   ],
   "source": [
    "from sklearn.tree import ExtraTreeClassifier\n",
    "\n",
    "model = ExtraTreeClassifier()\n",
    "model.fit(X_train, y_train)\n",
    "y_pred = model.predict(X_test)\n",
    "accuracy_score(y_test, y_pred)"
   ]
  },
  {
   "cell_type": "code",
   "execution_count": 45,
   "id": "40fc5cc1",
   "metadata": {},
   "outputs": [
    {
     "data": {
      "text/plain": [
       "0.8144329896907216"
      ]
     },
     "execution_count": 45,
     "metadata": {},
     "output_type": "execute_result"
    }
   ],
   "source": [
    "recall_score(y_test, y_pred)"
   ]
  },
  {
   "cell_type": "code",
   "execution_count": 46,
   "id": "b81ba65b",
   "metadata": {},
   "outputs": [
    {
     "data": {
      "text/plain": [
       "0.7214611872146118"
      ]
     },
     "execution_count": 46,
     "metadata": {},
     "output_type": "execute_result"
    }
   ],
   "source": [
    "precision_score(y_test, y_pred)"
   ]
  },
  {
   "cell_type": "code",
   "execution_count": 47,
   "id": "ee276943",
   "metadata": {},
   "outputs": [
    {
     "data": {
      "text/plain": [
       "0.765133171912833"
      ]
     },
     "execution_count": 47,
     "metadata": {},
     "output_type": "execute_result"
    }
   ],
   "source": [
    "f1_score(y_test, y_pred)"
   ]
  },
  {
   "cell_type": "code",
   "execution_count": 48,
   "id": "2ddf9010",
   "metadata": {},
   "outputs": [
    {
     "data": {
      "text/plain": [
       "0.75"
      ]
     },
     "execution_count": 48,
     "metadata": {},
     "output_type": "execute_result"
    }
   ],
   "source": [
    "roc_auc_score(y_test, y_pred)"
   ]
  },
  {
   "cell_type": "code",
   "execution_count": 49,
   "id": "f2b091a7",
   "metadata": {},
   "outputs": [
    {
     "data": {
      "text/plain": [
       "0.7989690721649485"
      ]
     },
     "execution_count": 49,
     "metadata": {},
     "output_type": "execute_result"
    }
   ],
   "source": [
    "from sklearn.neighbors import KNeighborsClassifier\n",
    "\n",
    "model = KNeighborsClassifier()\n",
    "model.fit(X_train, y_train)\n",
    "y_pred = model.predict(X_test)\n",
    "accuracy_score(y_test, y_pred)"
   ]
  },
  {
   "cell_type": "code",
   "execution_count": 50,
   "id": "019f74e6",
   "metadata": {},
   "outputs": [
    {
     "data": {
      "text/plain": [
       "0.7835051546391752"
      ]
     },
     "execution_count": 50,
     "metadata": {},
     "output_type": "execute_result"
    }
   ],
   "source": [
    "recall_score(y_test, y_pred)"
   ]
  },
  {
   "cell_type": "code",
   "execution_count": 51,
   "id": "1c12c7da",
   "metadata": {},
   "outputs": [
    {
     "data": {
      "text/plain": [
       "0.8085106382978723"
      ]
     },
     "execution_count": 51,
     "metadata": {},
     "output_type": "execute_result"
    }
   ],
   "source": [
    "precision_score(y_test, y_pred)"
   ]
  },
  {
   "cell_type": "code",
   "execution_count": 52,
   "id": "fb8e2d24",
   "metadata": {},
   "outputs": [
    {
     "data": {
      "text/plain": [
       "0.7958115183246073"
      ]
     },
     "execution_count": 52,
     "metadata": {},
     "output_type": "execute_result"
    }
   ],
   "source": [
    "f1_score(y_test, y_pred)"
   ]
  },
  {
   "cell_type": "code",
   "execution_count": 53,
   "id": "31cb30c2",
   "metadata": {},
   "outputs": [
    {
     "data": {
      "text/plain": [
       "0.7989690721649484"
      ]
     },
     "execution_count": 53,
     "metadata": {},
     "output_type": "execute_result"
    }
   ],
   "source": [
    "roc_auc_score(y_test, y_pred)"
   ]
  },
  {
   "cell_type": "markdown",
   "id": "4dca1ceb",
   "metadata": {},
   "source": [
    "## Deep learning"
   ]
  },
  {
   "cell_type": "markdown",
   "id": "d0c52969",
   "metadata": {},
   "source": [
    "### Recurrent"
   ]
  },
  {
   "cell_type": "code",
   "execution_count": 54,
   "id": "f77dcb2d",
   "metadata": {},
   "outputs": [
    {
     "name": "stderr",
     "output_type": "stream",
     "text": [
      "2023-03-29 11:22:26.346821: I tensorflow/core/platform/cpu_feature_guard.cc:193] This TensorFlow binary is optimized with oneAPI Deep Neural Network Library (oneDNN) to use the following CPU instructions in performance-critical operations:  AVX2 FMA\n",
      "To enable them in other operations, rebuild TensorFlow with the appropriate compiler flags.\n",
      "2023-03-29 11:22:26.604500: E tensorflow/stream_executor/cuda/cuda_blas.cc:2981] Unable to register cuBLAS factory: Attempting to register factory for plugin cuBLAS when one has already been registered\n",
      "2023-03-29 11:22:27.185157: W tensorflow/stream_executor/platform/default/dso_loader.cc:64] Could not load dynamic library 'libnvinfer.so.7'; dlerror: libnvinfer.so.7: cannot open shared object file: No such file or directory\n",
      "2023-03-29 11:22:27.185235: W tensorflow/stream_executor/platform/default/dso_loader.cc:64] Could not load dynamic library 'libnvinfer_plugin.so.7'; dlerror: libnvinfer_plugin.so.7: cannot open shared object file: No such file or directory\n",
      "2023-03-29 11:22:27.185241: W tensorflow/compiler/tf2tensorrt/utils/py_utils.cc:38] TF-TRT Warning: Cannot dlopen some TensorRT libraries. If you would like to use Nvidia GPU with TensorRT, please make sure the missing libraries mentioned above are installed properly.\n"
     ]
    }
   ],
   "source": [
    "from tensorflow import keras"
   ]
  },
  {
   "cell_type": "code",
   "execution_count": 55,
   "id": "44a0aaab",
   "metadata": {},
   "outputs": [],
   "source": [
    "tokenizer = keras.preprocessing.text.Tokenizer(char_level = True)\n",
    "tokenizer.fit_on_texts(base_X_train[\"sequence\"] )\n",
    "X_train = keras.preprocessing.sequence.pad_sequences(tokenizer.texts_to_sequences(base_X_train['sequence']), maxlen = 50)\n",
    "X_test = keras.preprocessing.sequence.pad_sequences(tokenizer.texts_to_sequences(base_X_test['sequence']), maxlen = 50)"
   ]
  },
  {
   "cell_type": "code",
   "execution_count": 142,
   "id": "acac5551",
   "metadata": {},
   "outputs": [],
   "source": [
    "import pickle\n",
    "\n",
    "with open('../data/models/classifier_tokenizer.pickle', 'wb') as writer:\n",
    "    writer.write(pickle.dumps(tokenizer))"
   ]
  },
  {
   "cell_type": "code",
   "execution_count": 57,
   "id": "010c4a91",
   "metadata": {},
   "outputs": [],
   "source": [
    "from sklearn.preprocessing import LabelEncoder\n",
    "\n",
    "le = LabelEncoder()\n",
    "le.fit(base_y_train)\n",
    "y_train_encode = keras.utils.to_categorical(le.transform(base_y_train))\n",
    "y_test_encode = keras.utils.to_categorical(le.transform(base_y_test))"
   ]
  },
  {
   "cell_type": "code",
   "execution_count": 143,
   "id": "d7359b01",
   "metadata": {},
   "outputs": [],
   "source": [
    "import pickle\n",
    "\n",
    "with open('../data/models/label_encoder.pickle', 'wb') as writer:\n",
    "    writer.write(pickle.dumps(le))"
   ]
  },
  {
   "cell_type": "code",
   "execution_count": 58,
   "id": "412e6c24",
   "metadata": {},
   "outputs": [
    {
     "data": {
      "text/html": [
       "<div>\n",
       "<style scoped>\n",
       "    .dataframe tbody tr th:only-of-type {\n",
       "        vertical-align: middle;\n",
       "    }\n",
       "\n",
       "    .dataframe tbody tr th {\n",
       "        vertical-align: top;\n",
       "    }\n",
       "\n",
       "    .dataframe thead th {\n",
       "        text-align: right;\n",
       "    }\n",
       "</style>\n",
       "<table border=\"1\" class=\"dataframe\">\n",
       "  <thead>\n",
       "    <tr style=\"text-align: right;\">\n",
       "      <th></th>\n",
       "      <th>sequence</th>\n",
       "    </tr>\n",
       "  </thead>\n",
       "  <tbody>\n",
       "    <tr>\n",
       "      <th>0</th>\n",
       "      <td>LYHEKYKVVEL</td>\n",
       "    </tr>\n",
       "    <tr>\n",
       "      <th>1</th>\n",
       "      <td>RKAVLLEEQGIEWKPEDTARPSGPREGGRRDGGRDG</td>\n",
       "    </tr>\n",
       "    <tr>\n",
       "      <th>2</th>\n",
       "      <td>YAAIPLGAAIGALTSGQLAHSVRPGLIMLVSTVGSFLAVGLFAIMPV</td>\n",
       "    </tr>\n",
       "    <tr>\n",
       "      <th>3</th>\n",
       "      <td>LLINKSPEERAALAEERTEGGTPLLIA</td>\n",
       "    </tr>\n",
       "    <tr>\n",
       "      <th>4</th>\n",
       "      <td>AAVLVLIHAAVRRSDNLFLDEEAAAVTEASGLMSYPS</td>\n",
       "    </tr>\n",
       "    <tr>\n",
       "      <th>...</th>\n",
       "      <td>...</td>\n",
       "    </tr>\n",
       "    <tr>\n",
       "      <th>1547</th>\n",
       "      <td>FAKLLAKLAKLKL</td>\n",
       "    </tr>\n",
       "    <tr>\n",
       "      <th>1548</th>\n",
       "      <td>TTGGTCCTTCAAGAGCTG</td>\n",
       "    </tr>\n",
       "    <tr>\n",
       "      <th>1549</th>\n",
       "      <td>GDACGETCFTGICFTAGCSCNPWPTCTRN</td>\n",
       "    </tr>\n",
       "    <tr>\n",
       "      <th>1550</th>\n",
       "      <td>KSCCKNTTGRNIYNTCRFAGGSRERCAKLSGCKIISASTCPSYPDK</td>\n",
       "    </tr>\n",
       "    <tr>\n",
       "      <th>1551</th>\n",
       "      <td>GKWMTLLKHILK</td>\n",
       "    </tr>\n",
       "  </tbody>\n",
       "</table>\n",
       "<p>1552 rows × 1 columns</p>\n",
       "</div>"
      ],
      "text/plain": [
       "                                             sequence\n",
       "0                                         LYHEKYKVVEL\n",
       "1                RKAVLLEEQGIEWKPEDTARPSGPREGGRRDGGRDG\n",
       "2     YAAIPLGAAIGALTSGQLAHSVRPGLIMLVSTVGSFLAVGLFAIMPV\n",
       "3                         LLINKSPEERAALAEERTEGGTPLLIA\n",
       "4               AAVLVLIHAAVRRSDNLFLDEEAAAVTEASGLMSYPS\n",
       "...                                               ...\n",
       "1547                                    FAKLLAKLAKLKL\n",
       "1548                               TTGGTCCTTCAAGAGCTG\n",
       "1549                    GDACGETCFTGICFTAGCSCNPWPTCTRN\n",
       "1550   KSCCKNTTGRNIYNTCRFAGGSRERCAKLSGCKIISASTCPSYPDK\n",
       "1551                                     GKWMTLLKHILK\n",
       "\n",
       "[1552 rows x 1 columns]"
      ]
     },
     "execution_count": 58,
     "metadata": {},
     "output_type": "execute_result"
    }
   ],
   "source": [
    "base_X_train"
   ]
  },
  {
   "cell_type": "code",
   "execution_count": 59,
   "id": "de37bb33",
   "metadata": {},
   "outputs": [
    {
     "data": {
      "text/plain": [
       "array([[1., 0.],\n",
       "       [1., 0.],\n",
       "       [1., 0.],\n",
       "       ...,\n",
       "       [0., 1.],\n",
       "       [0., 1.],\n",
       "       [0., 1.]], dtype=float32)"
      ]
     },
     "execution_count": 59,
     "metadata": {},
     "output_type": "execute_result"
    }
   ],
   "source": [
    "y_train_encode"
   ]
  },
  {
   "cell_type": "code",
   "execution_count": 84,
   "id": "42355e96",
   "metadata": {},
   "outputs": [],
   "source": [
    "callback = tf.keras.callbacks.EarlyStopping(monitor='loss', patience=5)\n",
    "\n",
    "model = keras.models.Sequential()\n",
    "model.add(keras.layers.Embedding(21, 21, input_length = 50))\n",
    "model.add(keras.layers.LSTM(32))\n",
    "model.add(keras.layers.Dense(2))\n",
    "model.compile(optimizer='adam', loss='binary_crossentropy', metrics=['acc'])"
   ]
  },
  {
   "cell_type": "code",
   "execution_count": 85,
   "id": "eae1495f",
   "metadata": {},
   "outputs": [
    {
     "name": "stdout",
     "output_type": "stream",
     "text": [
      "Epoch 1/50\n",
      "49/49 [==============================] - 2s 14ms/step - loss: 1.1119 - acc: 0.6430 - val_loss: 0.6849 - val_acc: 0.7139\n",
      "Epoch 2/50\n",
      "49/49 [==============================] - 0s 9ms/step - loss: 0.6691 - acc: 0.7403 - val_loss: 0.6361 - val_acc: 0.8015\n",
      "Epoch 3/50\n",
      "49/49 [==============================] - 0s 8ms/step - loss: 0.5381 - acc: 0.7893 - val_loss: 0.5791 - val_acc: 0.8557\n",
      "Epoch 4/50\n",
      "49/49 [==============================] - 0s 8ms/step - loss: 0.4853 - acc: 0.8415 - val_loss: 0.5011 - val_acc: 0.8918\n",
      "Epoch 5/50\n",
      "49/49 [==============================] - 0s 9ms/step - loss: 0.4425 - acc: 0.8466 - val_loss: 0.3979 - val_acc: 0.8660\n",
      "Epoch 6/50\n",
      "49/49 [==============================] - 0s 9ms/step - loss: 0.4220 - acc: 0.8537 - val_loss: 0.4068 - val_acc: 0.8892\n",
      "Epoch 7/50\n",
      "49/49 [==============================] - 0s 8ms/step - loss: 0.4285 - acc: 0.8692 - val_loss: 0.4136 - val_acc: 0.9021\n",
      "Epoch 8/50\n",
      "49/49 [==============================] - 0s 8ms/step - loss: 0.5511 - acc: 0.7829 - val_loss: 0.4168 - val_acc: 0.8428\n",
      "Epoch 9/50\n",
      "49/49 [==============================] - 0s 9ms/step - loss: 0.7329 - acc: 0.7990 - val_loss: 1.2392 - val_acc: 0.7268\n",
      "Epoch 10/50\n",
      "49/49 [==============================] - 0s 9ms/step - loss: 0.9728 - acc: 0.7436 - val_loss: 0.6315 - val_acc: 0.7809\n",
      "Epoch 11/50\n",
      "49/49 [==============================] - 0s 8ms/step - loss: 0.6010 - acc: 0.7674 - val_loss: 0.5749 - val_acc: 0.7758\n"
     ]
    },
    {
     "data": {
      "text/plain": [
       "<keras.callbacks.History at 0x7f64683d1610>"
      ]
     },
     "execution_count": 85,
     "metadata": {},
     "output_type": "execute_result"
    }
   ],
   "source": [
    "model.fit(X_train, y_train_encode, validation_data = (X_test, y_test_encode), shuffle = True, epochs = 50, callbacks=[callback])"
   ]
  },
  {
   "cell_type": "code",
   "execution_count": 62,
   "id": "81190e64",
   "metadata": {},
   "outputs": [
    {
     "name": "stdout",
     "output_type": "stream",
     "text": [
      "13/13 [==============================] - 0s 2ms/step\n"
     ]
    },
    {
     "data": {
      "text/plain": [
       "0.7448453608247423"
      ]
     },
     "execution_count": 62,
     "metadata": {},
     "output_type": "execute_result"
    }
   ],
   "source": [
    "import numpy as np\n",
    "from sklearn.metrics import accuracy_score, recall_score, precision_score, f1_score, roc_auc_score\n",
    "\n",
    "y_pred = le.inverse_transform(np.argmax(model.predict(X_test), axis = 1))\n",
    "accuracy_score(base_y_test, y_pred)\n"
   ]
  },
  {
   "cell_type": "code",
   "execution_count": 63,
   "id": "53c44ee9",
   "metadata": {},
   "outputs": [
    {
     "name": "stdout",
     "output_type": "stream",
     "text": [
      "13/13 [==============================] - 0s 2ms/step\n"
     ]
    },
    {
     "data": {
      "text/plain": [
       "0.9381443298969072"
      ]
     },
     "execution_count": 63,
     "metadata": {},
     "output_type": "execute_result"
    }
   ],
   "source": [
    "y_pred = le.inverse_transform(np.argmax(model.predict(X_test), axis = 1))\n",
    "recall_score(base_y_test, y_pred)"
   ]
  },
  {
   "cell_type": "code",
   "execution_count": 64,
   "id": "c85fdd9d",
   "metadata": {},
   "outputs": [
    {
     "name": "stdout",
     "output_type": "stream",
     "text": [
      "13/13 [==============================] - 0s 2ms/step\n"
     ]
    },
    {
     "data": {
      "text/plain": [
       "0.6765799256505576"
      ]
     },
     "execution_count": 64,
     "metadata": {},
     "output_type": "execute_result"
    }
   ],
   "source": [
    "y_pred = le.inverse_transform(np.argmax(model.predict(X_test), axis = 1))\n",
    "precision_score(base_y_test, y_pred)"
   ]
  },
  {
   "cell_type": "code",
   "execution_count": 65,
   "id": "0b2c4b0c",
   "metadata": {},
   "outputs": [
    {
     "name": "stdout",
     "output_type": "stream",
     "text": [
      "13/13 [==============================] - 0s 2ms/step\n"
     ]
    },
    {
     "data": {
      "text/plain": [
       "0.7861771058315334"
      ]
     },
     "execution_count": 65,
     "metadata": {},
     "output_type": "execute_result"
    }
   ],
   "source": [
    "y_pred = le.inverse_transform(np.argmax(model.predict(X_test), axis = 1))\n",
    "f1_score(base_y_test, y_pred)"
   ]
  },
  {
   "cell_type": "code",
   "execution_count": 66,
   "id": "6bb13732",
   "metadata": {},
   "outputs": [
    {
     "name": "stdout",
     "output_type": "stream",
     "text": [
      "13/13 [==============================] - 0s 2ms/step\n"
     ]
    },
    {
     "data": {
      "text/plain": [
       "0.7448453608247423"
      ]
     },
     "execution_count": 66,
     "metadata": {},
     "output_type": "execute_result"
    }
   ],
   "source": [
    "y_pred = le.inverse_transform(np.argmax(model.predict(X_test), axis = 1))\n",
    "roc_auc_score(base_y_test, y_pred)"
   ]
  },
  {
   "cell_type": "markdown",
   "id": "770baa2d",
   "metadata": {},
   "source": [
    "### Convolutional"
   ]
  },
  {
   "cell_type": "code",
   "execution_count": 86,
   "id": "9754b2e5",
   "metadata": {},
   "outputs": [],
   "source": [
    "callback = tf.keras.callbacks.EarlyStopping(monitor='loss', patience=5)\n",
    "\n",
    "\n",
    "model = keras.models.Sequential()\n",
    "model.add(keras.layers.Embedding(21, 21, input_length = 50))\n",
    "model.add(keras.layers.Conv1D(64, 8))\n",
    "model.add(keras.layers.Dropout(0.5))\n",
    "model.add(keras.layers.Conv1D(32, 8))\n",
    "model.add(keras.layers.Dropout(0.5))\n",
    "model.add(keras.layers.Conv1D(16, 8))\n",
    "model.add(keras.layers.Dropout(0.5))\n",
    "model.add(keras.layers.Flatten())\n",
    "model.add(keras.layers.Dense(2))\n",
    "model.compile(optimizer='adam', loss='binary_crossentropy', metrics=['acc'])"
   ]
  },
  {
   "cell_type": "code",
   "execution_count": 87,
   "id": "f64f79d8",
   "metadata": {},
   "outputs": [
    {
     "name": "stdout",
     "output_type": "stream",
     "text": [
      "Epoch 1/50\n",
      "49/49 [==============================] - 1s 5ms/step - loss: 1.1994 - acc: 0.5451 - val_loss: 0.6505 - val_acc: 0.6624\n",
      "Epoch 2/50\n",
      "49/49 [==============================] - 0s 3ms/step - loss: 0.6977 - acc: 0.6430 - val_loss: 0.6122 - val_acc: 0.7113\n",
      "Epoch 3/50\n",
      "49/49 [==============================] - 0s 3ms/step - loss: 0.6273 - acc: 0.6927 - val_loss: 0.4891 - val_acc: 0.7835\n",
      "Epoch 4/50\n",
      "49/49 [==============================] - 0s 3ms/step - loss: 1.1430 - acc: 0.7249 - val_loss: 0.6565 - val_acc: 0.7706\n",
      "Epoch 5/50\n",
      "49/49 [==============================] - 0s 3ms/step - loss: 1.0568 - acc: 0.7371 - val_loss: 0.4689 - val_acc: 0.8222\n",
      "Epoch 6/50\n",
      "49/49 [==============================] - 0s 3ms/step - loss: 0.6060 - acc: 0.8215 - val_loss: 0.4815 - val_acc: 0.8814\n",
      "Epoch 7/50\n",
      "49/49 [==============================] - 0s 3ms/step - loss: 0.6389 - acc: 0.8170 - val_loss: 0.6025 - val_acc: 0.8247\n",
      "Epoch 8/50\n",
      "49/49 [==============================] - 0s 3ms/step - loss: 0.8629 - acc: 0.7738 - val_loss: 0.6330 - val_acc: 0.7938\n",
      "Epoch 9/50\n",
      "49/49 [==============================] - 0s 3ms/step - loss: 0.6312 - acc: 0.7874 - val_loss: 0.4786 - val_acc: 0.8273\n",
      "Epoch 10/50\n",
      "49/49 [==============================] - 0s 3ms/step - loss: 0.5763 - acc: 0.8054 - val_loss: 0.5290 - val_acc: 0.8918\n",
      "Epoch 11/50\n",
      "49/49 [==============================] - 0s 3ms/step - loss: 0.5353 - acc: 0.8241 - val_loss: 0.5012 - val_acc: 0.8995\n",
      "Epoch 12/50\n",
      "49/49 [==============================] - 0s 3ms/step - loss: 0.5756 - acc: 0.8363 - val_loss: 0.4780 - val_acc: 0.8634\n",
      "Epoch 13/50\n",
      "49/49 [==============================] - 0s 3ms/step - loss: 0.5849 - acc: 0.8421 - val_loss: 0.5093 - val_acc: 0.9046\n",
      "Epoch 14/50\n",
      "49/49 [==============================] - 0s 3ms/step - loss: 0.6009 - acc: 0.8582 - val_loss: 0.5606 - val_acc: 0.8789\n",
      "Epoch 15/50\n",
      "49/49 [==============================] - 0s 3ms/step - loss: 0.5805 - acc: 0.8196 - val_loss: 0.4558 - val_acc: 0.8814\n",
      "Epoch 16/50\n",
      "49/49 [==============================] - 0s 3ms/step - loss: 0.7825 - acc: 0.7970 - val_loss: 0.5918 - val_acc: 0.8325\n"
     ]
    },
    {
     "data": {
      "text/plain": [
       "<keras.callbacks.History at 0x7f64d0343ee0>"
      ]
     },
     "execution_count": 87,
     "metadata": {},
     "output_type": "execute_result"
    }
   ],
   "source": [
    "model.fit(X_train, y_train_encode, validation_data = (X_test, y_test_encode), shuffle = True, epochs = 50, callbacks=[callback])"
   ]
  },
  {
   "cell_type": "code",
   "execution_count": 88,
   "id": "b6c3f785",
   "metadata": {},
   "outputs": [
    {
     "name": "stdout",
     "output_type": "stream",
     "text": [
      "13/13 [==============================] - 0s 841us/step\n"
     ]
    },
    {
     "data": {
      "text/plain": [
       "0.8324742268041238"
      ]
     },
     "execution_count": 88,
     "metadata": {},
     "output_type": "execute_result"
    }
   ],
   "source": [
    "import numpy as np\n",
    "from sklearn.metrics import accuracy_score, recall_score, precision_score, f1_score, roc_auc_score\n",
    "\n",
    "y_pred = le.inverse_transform(np.argmax(model.predict(X_test), axis = 1))\n",
    "accuracy_score(base_y_test, y_pred)"
   ]
  },
  {
   "cell_type": "code",
   "execution_count": 89,
   "id": "40c3616b",
   "metadata": {},
   "outputs": [
    {
     "data": {
      "text/plain": [
       "0.6958762886597938"
      ]
     },
     "execution_count": 89,
     "metadata": {},
     "output_type": "execute_result"
    }
   ],
   "source": [
    "recall_score(base_y_test, y_pred)"
   ]
  },
  {
   "cell_type": "code",
   "execution_count": 90,
   "id": "088fb6ae",
   "metadata": {},
   "outputs": [
    {
     "data": {
      "text/plain": [
       "0.9574468085106383"
      ]
     },
     "execution_count": 90,
     "metadata": {},
     "output_type": "execute_result"
    }
   ],
   "source": [
    "precision_score(base_y_test, y_pred)"
   ]
  },
  {
   "cell_type": "code",
   "execution_count": 91,
   "id": "1dd8754c",
   "metadata": {},
   "outputs": [
    {
     "data": {
      "text/plain": [
       "0.8059701492537313"
      ]
     },
     "execution_count": 91,
     "metadata": {},
     "output_type": "execute_result"
    }
   ],
   "source": [
    "f1_score(base_y_test, y_pred)"
   ]
  },
  {
   "cell_type": "code",
   "execution_count": 92,
   "id": "52613d4f",
   "metadata": {},
   "outputs": [
    {
     "data": {
      "text/plain": [
       "0.8324742268041236"
      ]
     },
     "execution_count": 92,
     "metadata": {},
     "output_type": "execute_result"
    }
   ],
   "source": [
    "roc_auc_score(base_y_test, y_pred)"
   ]
  },
  {
   "cell_type": "markdown",
   "id": "23c6e4aa",
   "metadata": {},
   "source": [
    "### Transformer"
   ]
  },
  {
   "cell_type": "code",
   "execution_count": 93,
   "id": "6c804904",
   "metadata": {},
   "outputs": [],
   "source": [
    "import tensorflow as tf\n",
    "from tensorflow import keras\n",
    "from tensorflow.keras import layers"
   ]
  },
  {
   "cell_type": "code",
   "execution_count": 95,
   "id": "4f4134db",
   "metadata": {},
   "outputs": [],
   "source": [
    "class TransformerBlock(layers.Layer):\n",
    "    def __init__(self, embed_dim, num_heads, ff_dim, rate=0.1):\n",
    "        super().__init__()\n",
    "        self.att = layers.MultiHeadAttention(num_heads=num_heads, key_dim=embed_dim)\n",
    "        self.ffn = keras.Sequential(\n",
    "            [layers.Dense(ff_dim, activation=\"relu\"), layers.Dense(embed_dim),]\n",
    "        )\n",
    "        self.layernorm1 = layers.LayerNormalization(epsilon=1e-6)\n",
    "        self.layernorm2 = layers.LayerNormalization(epsilon=1e-6)\n",
    "        self.dropout1 = layers.Dropout(rate)\n",
    "        self.dropout2 = layers.Dropout(rate)\n",
    "\n",
    "    def call(self, inputs, training):\n",
    "        attn_output = self.att(inputs, inputs)\n",
    "        attn_output = self.dropout1(attn_output, training=training)\n",
    "        out1 = self.layernorm1(inputs + attn_output)\n",
    "        ffn_output = self.ffn(out1)\n",
    "        ffn_output = self.dropout2(ffn_output, training=training)\n",
    "        return self.layernorm2(out1 + ffn_output)\n",
    "    \n",
    "class TokenAndPositionEmbedding(layers.Layer):\n",
    "    def __init__(self, maxlen, vocab_size, embed_dim):\n",
    "        super().__init__()\n",
    "        self.token_emb = layers.Embedding(input_dim=vocab_size, output_dim=embed_dim)\n",
    "        self.pos_emb = layers.Embedding(input_dim=maxlen, output_dim=embed_dim)\n",
    "\n",
    "    def call(self, x):\n",
    "        maxlen = tf.shape(x)[-1]\n",
    "        positions = tf.range(start=0, limit=maxlen, delta=1)\n",
    "        positions = self.pos_emb(positions)\n",
    "        x = self.token_emb(x)\n",
    "        return x + positions"
   ]
  },
  {
   "cell_type": "code",
   "execution_count": 138,
   "id": "7bc78a3e",
   "metadata": {},
   "outputs": [],
   "source": [
    "callback = tf.keras.callbacks.EarlyStopping(monitor='loss', patience=5)\n",
    "\n",
    "vocab_size = 21\n",
    "maxlen = 50\n",
    "\n",
    "embed_dim = 20\n",
    "num_heads = 2\n",
    "ff_dim = 32\n",
    "\n",
    "inputs = layers.Input(shape=(maxlen,))\n",
    "embedding_layer = TokenAndPositionEmbedding(maxlen, vocab_size, embed_dim)\n",
    "\n",
    "x = embedding_layer(inputs)\n",
    "transformer_block = TransformerBlock(embed_dim, num_heads, ff_dim)\n",
    "x = layers.GlobalAveragePooling1D()(x)\n",
    "x = layers.Dropout(0.1)(x)\n",
    "x = layers.Dense(20, activation=\"relu\")(x)\n",
    "x = layers.Dropout(0.1)(x)\n",
    "\n",
    "outputs = layers.Dense(2, activation=\"softmax\")(x)\n",
    "\n",
    "model = keras.Model(inputs=inputs, outputs=outputs)\n",
    "model.compile(optimizer=\"adam\", loss=\"binary_crossentropy\", metrics=[\"accuracy\"])"
   ]
  },
  {
   "cell_type": "code",
   "execution_count": 139,
   "id": "f675cedc",
   "metadata": {
    "scrolled": false
   },
   "outputs": [
    {
     "name": "stdout",
     "output_type": "stream",
     "text": [
      "Epoch 1/50\n",
      "49/49 [==============================] - 1s 3ms/step - loss: 0.6880 - accuracy: 0.6321 - val_loss: 0.6801 - val_accuracy: 0.6830\n",
      "Epoch 2/50\n",
      "49/49 [==============================] - 0s 1ms/step - loss: 0.6640 - accuracy: 0.6991 - val_loss: 0.6426 - val_accuracy: 0.7139\n",
      "Epoch 3/50\n",
      "49/49 [==============================] - 0s 1ms/step - loss: 0.6152 - accuracy: 0.7152 - val_loss: 0.5843 - val_accuracy: 0.7191\n",
      "Epoch 4/50\n",
      "49/49 [==============================] - 0s 1ms/step - loss: 0.5539 - accuracy: 0.7481 - val_loss: 0.5201 - val_accuracy: 0.7706\n",
      "Epoch 5/50\n",
      "49/49 [==============================] - 0s 1ms/step - loss: 0.4964 - accuracy: 0.7803 - val_loss: 0.4566 - val_accuracy: 0.8222\n",
      "Epoch 6/50\n",
      "49/49 [==============================] - 0s 1ms/step - loss: 0.4389 - accuracy: 0.8106 - val_loss: 0.3950 - val_accuracy: 0.8454\n",
      "Epoch 7/50\n",
      "49/49 [==============================] - 0s 1ms/step - loss: 0.3917 - accuracy: 0.8454 - val_loss: 0.3589 - val_accuracy: 0.8582\n",
      "Epoch 8/50\n",
      "49/49 [==============================] - 0s 1ms/step - loss: 0.3586 - accuracy: 0.8576 - val_loss: 0.3319 - val_accuracy: 0.8582\n",
      "Epoch 9/50\n",
      "49/49 [==============================] - 0s 1ms/step - loss: 0.3405 - accuracy: 0.8615 - val_loss: 0.3186 - val_accuracy: 0.8608\n",
      "Epoch 10/50\n",
      "49/49 [==============================] - 0s 1ms/step - loss: 0.3298 - accuracy: 0.8653 - val_loss: 0.3109 - val_accuracy: 0.8686\n",
      "Epoch 11/50\n",
      "49/49 [==============================] - 0s 1ms/step - loss: 0.3235 - accuracy: 0.8711 - val_loss: 0.3041 - val_accuracy: 0.8789\n",
      "Epoch 12/50\n",
      "49/49 [==============================] - 0s 1ms/step - loss: 0.3240 - accuracy: 0.8666 - val_loss: 0.3012 - val_accuracy: 0.8840\n",
      "Epoch 13/50\n",
      "49/49 [==============================] - 0s 1ms/step - loss: 0.3202 - accuracy: 0.8679 - val_loss: 0.3024 - val_accuracy: 0.8789\n",
      "Epoch 14/50\n",
      "49/49 [==============================] - 0s 1ms/step - loss: 0.3173 - accuracy: 0.8711 - val_loss: 0.3010 - val_accuracy: 0.8840\n",
      "Epoch 15/50\n",
      "49/49 [==============================] - 0s 1ms/step - loss: 0.3113 - accuracy: 0.8769 - val_loss: 0.2971 - val_accuracy: 0.8840\n",
      "Epoch 16/50\n",
      "49/49 [==============================] - 0s 1ms/step - loss: 0.3142 - accuracy: 0.8679 - val_loss: 0.2963 - val_accuracy: 0.8943\n",
      "Epoch 17/50\n",
      "49/49 [==============================] - 0s 1ms/step - loss: 0.3067 - accuracy: 0.8737 - val_loss: 0.2969 - val_accuracy: 0.8840\n",
      "Epoch 18/50\n",
      "49/49 [==============================] - 0s 1ms/step - loss: 0.3081 - accuracy: 0.8737 - val_loss: 0.2952 - val_accuracy: 0.8918\n",
      "Epoch 19/50\n",
      "49/49 [==============================] - 0s 1ms/step - loss: 0.3138 - accuracy: 0.8718 - val_loss: 0.2960 - val_accuracy: 0.8943\n",
      "Epoch 20/50\n",
      "49/49 [==============================] - 0s 1ms/step - loss: 0.3055 - accuracy: 0.8698 - val_loss: 0.2964 - val_accuracy: 0.8892\n",
      "Epoch 21/50\n",
      "49/49 [==============================] - 0s 1ms/step - loss: 0.3011 - accuracy: 0.8744 - val_loss: 0.2945 - val_accuracy: 0.8943\n",
      "Epoch 22/50\n",
      "49/49 [==============================] - 0s 1ms/step - loss: 0.3086 - accuracy: 0.8776 - val_loss: 0.2943 - val_accuracy: 0.8918\n",
      "Epoch 23/50\n",
      "49/49 [==============================] - 0s 1ms/step - loss: 0.3088 - accuracy: 0.8731 - val_loss: 0.3034 - val_accuracy: 0.8789\n",
      "Epoch 24/50\n",
      "49/49 [==============================] - 0s 1ms/step - loss: 0.3025 - accuracy: 0.8776 - val_loss: 0.2944 - val_accuracy: 0.8918\n",
      "Epoch 25/50\n",
      "49/49 [==============================] - 0s 1ms/step - loss: 0.3099 - accuracy: 0.8724 - val_loss: 0.2942 - val_accuracy: 0.8918\n",
      "Epoch 26/50\n",
      "49/49 [==============================] - 0s 1ms/step - loss: 0.3082 - accuracy: 0.8737 - val_loss: 0.2977 - val_accuracy: 0.8866\n"
     ]
    },
    {
     "data": {
      "text/plain": [
       "<keras.callbacks.History at 0x7f647b757fa0>"
      ]
     },
     "execution_count": 139,
     "metadata": {},
     "output_type": "execute_result"
    }
   ],
   "source": [
    "model.fit(X_train, y_train_encode, validation_data = (X_test, y_test_encode), shuffle = True, epochs = 50, callbacks=[callback])"
   ]
  },
  {
   "cell_type": "code",
   "execution_count": 140,
   "id": "ce31ca1e",
   "metadata": {},
   "outputs": [],
   "source": [
    "model.save_weights('../data/models/transformer.h5')"
   ]
  },
  {
   "cell_type": "code",
   "execution_count": 141,
   "id": "f289b62c",
   "metadata": {},
   "outputs": [
    {
     "data": {
      "text/plain": [
       "array([[1., 0.],\n",
       "       [1., 0.],\n",
       "       [1., 0.],\n",
       "       ...,\n",
       "       [0., 1.],\n",
       "       [0., 1.],\n",
       "       [0., 1.]], dtype=float32)"
      ]
     },
     "execution_count": 141,
     "metadata": {},
     "output_type": "execute_result"
    }
   ],
   "source": [
    "y_train_encode"
   ]
  },
  {
   "cell_type": "code",
   "execution_count": 121,
   "id": "630a5c2d",
   "metadata": {},
   "outputs": [
    {
     "name": "stdout",
     "output_type": "stream",
     "text": [
      "13/13 [==============================] - 0s 2ms/step\n"
     ]
    }
   ],
   "source": [
    "y_pred = np.argmax(model.predict(X_test), axis=1)"
   ]
  },
  {
   "cell_type": "code",
   "execution_count": 123,
   "id": "792bbc64",
   "metadata": {},
   "outputs": [
    {
     "data": {
      "text/plain": [
       "0.904639175257732"
      ]
     },
     "execution_count": 123,
     "metadata": {},
     "output_type": "execute_result"
    }
   ],
   "source": [
    "accuracy_score(base_y_test, y_pred)"
   ]
  },
  {
   "cell_type": "code",
   "execution_count": 124,
   "id": "42ffeae1",
   "metadata": {},
   "outputs": [
    {
     "data": {
      "text/plain": [
       "0.8608247422680413"
      ]
     },
     "execution_count": 124,
     "metadata": {},
     "output_type": "execute_result"
    }
   ],
   "source": [
    "recall_score(base_y_test, y_pred)"
   ]
  },
  {
   "cell_type": "code",
   "execution_count": 125,
   "id": "d3116530",
   "metadata": {},
   "outputs": [
    {
     "data": {
      "text/plain": [
       "0.943502824858757"
      ]
     },
     "execution_count": 125,
     "metadata": {},
     "output_type": "execute_result"
    }
   ],
   "source": [
    "precision_score(base_y_test, y_pred)"
   ]
  },
  {
   "cell_type": "code",
   "execution_count": 126,
   "id": "38a93e61",
   "metadata": {},
   "outputs": [
    {
     "data": {
      "text/plain": [
       "0.9002695417789758"
      ]
     },
     "execution_count": 126,
     "metadata": {},
     "output_type": "execute_result"
    }
   ],
   "source": [
    "f1_score(base_y_test, y_pred)"
   ]
  },
  {
   "cell_type": "code",
   "execution_count": 127,
   "id": "ba945931",
   "metadata": {},
   "outputs": [
    {
     "data": {
      "text/plain": [
       "0.9046391752577319"
      ]
     },
     "execution_count": 127,
     "metadata": {},
     "output_type": "execute_result"
    }
   ],
   "source": [
    "roc_auc_score(base_y_test, y_pred)"
   ]
  }
 ],
 "metadata": {
  "kernelspec": {
   "display_name": "Python 3 (ipykernel)",
   "language": "python",
   "name": "python3"
  },
  "language_info": {
   "codemirror_mode": {
    "name": "ipython",
    "version": 3
   },
   "file_extension": ".py",
   "mimetype": "text/x-python",
   "name": "python",
   "nbconvert_exporter": "python",
   "pygments_lexer": "ipython3",
   "version": "3.8.13"
  }
 },
 "nbformat": 4,
 "nbformat_minor": 5
}
